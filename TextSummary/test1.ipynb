{
 "cells": [
  {
   "cell_type": "markdown",
   "id": "b6b4e559",
   "metadata": {},
   "source": [
    "## Пробуем суммаризировать тексты\n",
    "\n",
    "Используя модель bert, находим схожесть (cosine distance) между всеми предложениями текста.\n",
    "\n",
    "Строим граф узлами которого являются предложения текста, а длина связей определена найденным ранее значением схожести, чем более схожы предложения, тем ближе они между собой в графе.\n",
    "\n",
    "Далее алгоритмом Краскала находим минимальное оставное дерево в графе.\n",
    "\n",
    "Ограничением при построении дерева служит указанное минимальное количество узлов.\n",
    "\n",
    "Построение останавливается когда не останется деревьев с количеством узлов больше чем указано в ограничении.\n",
    "\n",
    "Минимальное оставное дерево - это суммаризация текста."
   ]
  },
  {
   "cell_type": "code",
   "execution_count": 2,
   "id": "ba1d1a17",
   "metadata": {},
   "outputs": [],
   "source": [
    "import torch\n",
    "from transformers import AutoTokenizer, AutoModel"
   ]
  },
  {
   "cell_type": "code",
   "execution_count": 4,
   "id": "b0b7ce45",
   "metadata": {},
   "outputs": [],
   "source": [
    "tokenizer = AutoTokenizer.from_pretrained(\"cointegrated/rubert-tiny2\")\n",
    "model = AutoModel.from_pretrained(\"cointegrated/rubert-tiny2\")"
   ]
  },
  {
   "cell_type": "code",
   "execution_count": 5,
   "id": "65866246",
   "metadata": {},
   "outputs": [],
   "source": [
    "def embed_bert_cls(text, model, tokenizer):\n",
    "    t = tokenizer(text, padding=True, truncation=True, return_tensors='pt')\n",
    "    with torch.no_grad():\n",
    "        model_output = model(**{k: v.to(model.device) for k, v in t.items()})\n",
    "    embeddings = model_output.last_hidden_state[:, 0, :]\n",
    "    embeddings = torch.nn.functional.normalize(embeddings)\n",
    "    return embeddings[0].cpu().numpy()"
   ]
  },
  {
   "cell_type": "code",
   "execution_count": 6,
   "id": "d1aecaac",
   "metadata": {},
   "outputs": [
    {
     "name": "stdout",
     "output_type": "stream",
     "text": [
      "(312,)\n"
     ]
    }
   ],
   "source": [
    "print(embed_bert_cls('привет мир', model, tokenizer).shape)"
   ]
  },
  {
   "cell_type": "code",
   "execution_count": null,
   "id": "2eb628e5",
   "metadata": {},
   "outputs": [],
   "source": []
  }
 ],
 "metadata": {
  "kernelspec": {
   "display_name": "Python 3",
   "language": "python",
   "name": "python3"
  },
  "language_info": {
   "codemirror_mode": {
    "name": "ipython",
    "version": 3
   },
   "file_extension": ".py",
   "mimetype": "text/x-python",
   "name": "python",
   "nbconvert_exporter": "python",
   "pygments_lexer": "ipython3",
   "version": "3.8.10"
  }
 },
 "nbformat": 4,
 "nbformat_minor": 5
}
